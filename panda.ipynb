{
  "nbformat": 4,
  "nbformat_minor": 0,
  "metadata": {
    "colab": {
      "provenance": [],
      "authorship_tag": "ABX9TyMVMAVWCS2SuPvLTmiZk9m+",
      "include_colab_link": true
    },
    "kernelspec": {
      "name": "python3",
      "display_name": "Python 3"
    },
    "language_info": {
      "name": "python"
    }
  },
  "cells": [
    {
      "cell_type": "markdown",
      "metadata": {
        "id": "view-in-github",
        "colab_type": "text"
      },
      "source": [
        "<a href=\"https://colab.research.google.com/github/T-A-Shadhin/edge-project/blob/main/panda.ipynb\" target=\"_parent\"><img src=\"https://colab.research.google.com/assets/colab-badge.svg\" alt=\"Open In Colab\"/></a>"
      ]
    },
    {
      "cell_type": "code",
      "execution_count": null,
      "metadata": {
        "colab": {
          "base_uri": "https://localhost:8080/"
        },
        "id": "84S3RdA3OUZA",
        "outputId": "bbaf19ad-bf73-4c3a-be5a-6223a7ef7475"
      },
      "outputs": [
        {
          "output_type": "stream",
          "name": "stdout",
          "text": [
            "rfdu,\n"
          ]
        }
      ],
      "source": [
        "print(\"rfdu,\")"
      ]
    },
    {
      "cell_type": "markdown",
      "source": [
        " per student"
      ],
      "metadata": {
        "id": "hSZE2ENSiOXJ"
      }
    },
    {
      "cell_type": "code",
      "source": [
        "# prompt: pandas and dataFrames analyze average,minimum and maximum score per student\n",
        "\n",
        "import pandas as pd\n",
        "\n",
        "# Sample data (replace with your actual data)\n",
        "data = {'student': ['Alice', 'Bob', 'Charlie', 'Alice', 'Bob', 'Charlie'],\n",
        "        'score': [85, 92, 78, 90, 88, 82]}\n",
        "df = pd.DataFrame(data)\n",
        "\n",
        "# Calculate average, minimum, and maximum score per student\n",
        "result = df.groupby('student')['score'].agg(['mean', 'min', 'max'])\n",
        "\n",
        "# Rename columns for better readability\n",
        "result = result.rename(columns={'mean': 'average', 'min': 'minimum', 'max': 'maximum'})\n",
        "\n",
        "# Print the result\n",
        "result\n"
      ],
      "metadata": {
        "id": "X1-NJ63UhvbC"
      },
      "execution_count": null,
      "outputs": []
    },
    {
      "cell_type": "code",
      "source": [
        "import pandas as pd\n",
        "\n",
        "# Initialize an empty list to store user input\n",
        "data = {'student': [], 'score': []}\n",
        "\n",
        "# Number of students to input\n",
        "num_students = int(input(\"Enter the number of students: \"))\n",
        "\n",
        "# Take input for each student\n",
        "for _ in range(num_students):\n",
        "    student_name = input(\"Enter student name: \")\n",
        "    student_score = float(input(f\"Enter score for {student_name}: \"))\n",
        "\n",
        "    # Append the input data to the lists\n",
        "    data['student'].append(student_name)\n",
        "    data['score'].append(student_score)\n",
        "\n",
        "# Create a DataFrame from the input data\n",
        "df = pd.DataFrame(data)\n",
        "\n",
        "# Calculate average, minimum, and maximum score per student\n",
        "result = df.groupby('student')['score'].agg(['mean', 'min', 'max'])\n",
        "\n",
        "# Rename columns for better readability\n",
        "result = result.rename(columns={'mean': 'average', 'min': 'minimum', 'max': 'maximum'})\n",
        "\n",
        "# Print the result\n",
        "print(\"\\nAverage, Minimum, and Maximum Scores per Student:\")\n",
        "print(result)"
      ],
      "metadata": {
        "id": "wKADyafvjEsT",
        "outputId": "a1c1da1b-6880-439f-fb5b-f78158a335c6",
        "colab": {
          "base_uri": "https://localhost:8080/"
        }
      },
      "execution_count": 1,
      "outputs": [
        {
          "output_type": "stream",
          "name": "stdout",
          "text": [
            "Enter the number of students: 3\n",
            "Enter student name: shadhin\n",
            "Enter score for shadhin: 78\n",
            "Enter student name: rai\n",
            "Enter score for rai: 88\n",
            "Enter student name: himu\n",
            "Enter score for himu: 90\n",
            "\n",
            "Average, Minimum, and Maximum Scores per Student:\n",
            "         average  minimum  maximum\n",
            "student                           \n",
            "himu        90.0     90.0     90.0\n",
            "rai         88.0     88.0     88.0\n",
            "shadhin     78.0     78.0     78.0\n"
          ]
        }
      ]
    },
    {
      "cell_type": "code",
      "source": [
        "import pandas as pd\n",
        "\n",
        "# Initialize an empty list to store user input\n",
        "data = {'student': [], 'score': [], 'attendance': [], 'missing_assignments': []}\n",
        "\n",
        "# Number of students to input\n",
        "num_students = int(input(\"Enter the number of students: \"))\n",
        "\n",
        "# Take input for each student\n",
        "for _ in range(num_students):\n",
        "    student_name = input(\"Enter student name: \")\n",
        "    student_score = float(input(f\"Enter score for {student_name}: \"))\n",
        "    student_attendance = float(input(f\"Enter attendance percentage for {student_name}: \"))\n",
        "    missing_assignments = input(f\"Does {student_name} have missing assignments? (yes/no): \").strip().lower()\n",
        "\n",
        "    # Append the input data to the lists\n",
        "    data['student'].append(student_name)\n",
        "    data['score'].append(student_score)\n",
        "    data['attendance'].append(student_attendance)\n",
        "    data['missing_assignments'].append(missing_assignments)\n",
        "\n",
        "# Create a DataFrame from the input data\n",
        "df = pd.DataFrame(data)\n",
        "\n",
        "# Identify students with attendance < 75% or missing assignments\n",
        "students_at_risk = df[(df['attendance'] < 75) | (df['missing_assignments'] == 'yes')]\n",
        "\n",
        "# Display the students at risk\n",
        "if not students_at_risk.empty:\n",
        "    print(\"\\nStudents with attendance < 75% or missing assignments:\")\n",
        "    print(students_at_risk[['student', 'attendance', 'missing_assignments']])\n",
        "else:\n",
        "    print(\"\\nAll students have satisfactory attendance and no missing assignments.\")"
      ],
      "metadata": {
        "id": "oSIZgkUFjz6r"
      },
      "execution_count": null,
      "outputs": []
    },
    {
      "cell_type": "code",
      "source": [
        "import pandas as pd\n",
        "\n",
        "# Initialize an empty list to store user input\n",
        "data = {'student': [], 'score': [], 'attendance': [], 'missing_assignments': []}\n",
        "\n",
        "# Number of students to input\n",
        "num_students = int(input(\"Enter the number of students: \"))\n",
        "\n",
        "# Take input for each student\n",
        "for _ in range(num_students):\n",
        "    student_name = input(\"Enter student name: \")\n",
        "\n",
        "    # Score input and conversion to integer if needed\n",
        "    student_score = input(f\"Enter score for {student_name}: \")\n",
        "    if student_score.isdigit():  # Check if the input can be converted to an integer\n",
        "        student_score = int(student_score)\n",
        "    else:\n",
        "        print(f\"Invalid score for {student_name}. It will be treated as 0.\")\n",
        "        student_score = 0  # In case of invalid input, assign a default value (0 in this case)\n",
        "\n",
        "    student_attendance = float(input(f\"Enter attendance percentage for {student_name}: \"))\n",
        "    missing_assignments = input(f\"Does {student_name} have missing assignments? (yes/no): \").strip().lower()\n",
        "\n",
        "    # Append the input data to the lists\n",
        "    data['student'].append(student_name)\n",
        "    data['score'].append(student_score)\n",
        "    data['attendance'].append(student_attendance)\n",
        "    data['missing_assignments'].append(missing_assignments)\n",
        "\n",
        "# Create a DataFrame from the input data\n",
        "df = pd.DataFrame(data)\n",
        "\n",
        "# Filter students who are failing (score < 50)\n",
        "failing_students = df[df['score'] < 50]\n",
        "\n",
        "# Display students who are failing\n",
        "if not failing_students.empty:\n",
        "    print(\"\\nStudents failing the subject (score < 50):\")\n",
        "    print(failing_students[['student', 'score']])\n",
        "else:\n",
        "    print(\"\\nNo students are failing the subject.\")"
      ],
      "metadata": {
        "id": "cMN2oj9qk4Na"
      },
      "execution_count": null,
      "outputs": []
    },
    {
      "cell_type": "code",
      "source": [
        "import pandas as pd\n",
        "\n",
        "# Initialize an empty list to store user input\n",
        "data = {'student': [], 'score': [], 'attendance': [], 'missing_assignments': []}\n",
        "\n",
        "# Number of students to input\n",
        "num_students = int(input(\"Enter the number of students: \"))\n",
        "\n",
        "# Take input for each student\n",
        "for _ in range(num_students):\n",
        "    student_name = input(\"Enter student name: \")\n",
        "\n",
        "    # Score input and conversion to integer if needed\n",
        "    student_score = input(f\"Enter score for {student_name}: \")\n",
        "    if student_score.isdigit():  # Check if the input can be converted to an integer\n",
        "        student_score = int(student_score)\n",
        "    else:\n",
        "        print(f\"Invalid score for {student_name}. It will be treated as 0.\")\n",
        "        student_score = 0  # In case of invalid input, assign a default value (0 in this case)\n",
        "\n",
        "    student_attendance = float(input(f\"Enter attendance percentage for {student_name}: \"))\n",
        "    missing_assignments = input(f\"Does {student_name} have missing assignments? (yes/no): \").strip().lower()\n",
        "\n",
        "    # Append the input data to the lists\n",
        "    data['student'].append(student_name)\n",
        "    data['score'].append(student_score)\n",
        "    data['attendance'].append(student_attendance)\n",
        "    data['missing_assignments'].append(missing_assignments)\n",
        "\n",
        "# Create a DataFrame from the input data\n",
        "df = pd.DataFrame(data)\n",
        "\n",
        "# Filter students who are failing (score < 50)\n",
        "failing_students = df[df['score'] < 50]\n",
        "\n",
        "# Filter students with attendance < 75% or missing assignments\n",
        "at_risk_students = df[(df['attendance'] < 75) | (df['missing_assignments'] == 'yes')]\n",
        "\n",
        "# Display students who are failing\n",
        "if not failing_students.empty:\n",
        "    print(\"\\nStudents failing the subject (score < 50):\")\n",
        "    print(failing_students[['student', 'score']])\n",
        "else:\n",
        "    print(\"\\nNo students are failing the subject.\")\n",
        "\n",
        "# Display students at risk due to low attendance or missing assignments\n",
        "if not at_risk_students.empty:\n",
        "    print(\"\\nStudents at risk (attendance < 75% or missing assignments):\")\n",
        "    print(at_risk_students[['student', 'attendance', 'missing_assignments']])\n",
        "else:\n",
        "    print(\"\\nNo students are at risk due to attendance or missing assignments.\")"
      ],
      "metadata": {
        "id": "b7Zb86lflY55",
        "outputId": "4b6acfcd-a68c-4953-f92f-9a9f2e984564",
        "colab": {
          "base_uri": "https://localhost:8080/"
        }
      },
      "execution_count": 4,
      "outputs": [
        {
          "output_type": "stream",
          "name": "stdout",
          "text": [
            "Enter the number of students: 3\n",
            "Enter student name: rai\n",
            "Enter score for rai: 66\n",
            "Enter attendance percentage for rai: 76\n",
            "Does rai have missing assignments? (yes/no): yes\n",
            "Enter student name: himu\n",
            "Enter score for himu: 88\n",
            "Enter attendance percentage for himu: 89\n",
            "Does himu have missing assignments? (yes/no): no\n",
            "Enter student name: shimu\n",
            "Enter score for shimu: 55\n",
            "Enter attendance percentage for shimu: 77\n",
            "Does shimu have missing assignments? (yes/no): yes\n",
            "\n",
            "No students are failing the subject.\n",
            "\n",
            "Students at risk (attendance < 75% or missing assignments):\n",
            "  student  attendance missing_assignments\n",
            "0     rai        76.0                 yes\n",
            "2   shimu        77.0                 yes\n"
          ]
        }
      ]
    }
  ]
}